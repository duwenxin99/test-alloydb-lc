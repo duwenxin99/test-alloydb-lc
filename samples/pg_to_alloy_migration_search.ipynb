{
 "cells": [
  {
   "cell_type": "code",
   "execution_count": null,
   "metadata": {},
   "outputs": [],
   "source": [
    "# Copyright 2024 Google LLC\n",
    "#\n",
    "# Licensed under the Apache License, Version 2.0 (the \"License\");\n",
    "# you may not use this file except in compliance with the License.\n",
    "# You may obtain a copy of the License at\n",
    "#\n",
    "#     https://www.apache.org/licenses/LICENSE-2.0\n",
    "#\n",
    "# Unless required by applicable law or agreed to in writing, software\n",
    "# distributed under the License is distributed on an \"AS IS\" BASIS,\n",
    "# WITHOUT WARRANTIES OR CONDITIONS OF ANY KIND, either express or implied.\n",
    "# See the License for the specific language governing permissions and\n",
    "# limitations under the License."
   ]
  },
  {
   "cell_type": "markdown",
   "metadata": {
    "id": "QfhjUMPlX-2t"
   },
   "source": [
    "# Migrate a PGVector vector store to AlloyDBVectorStore\n"
   ]
  },
  {
   "cell_type": "markdown",
   "metadata": {
    "id": "C5buBYm2WTKV"
   },
   "source": [
    "[![Open In Colab](https://colab.research.google.com/assets/colab-badge.svg)](https://colab.research.google.com/github/googleapis/langchain-google-alloydb-pg-python/blob/main/samples/pg_to_alloy_migration_search.ipynb)\n",
    "\n",
    "---\n",
    "\n",
    "## Introduction\n",
    "\n",
    "In this notebook, you'll learn how to use the AlloyDBVectorStore interface for vector search from vector stores created when using the PGVector interface.\n",
    "\n",
    "This will allow you to migrate from the [`PGVector` interface](https://api.python.langchain.com/en/latest/vectorstores/langchain_postgres.vectorstores.PGVector.html#langchain_postgres.vectorstores.PGVector) to the [`AlloyDBVectorStore` interface](https://github.com/googleapis/langchain-google-alloydb-pg-python/blob/main/docs/vector_store.ipynb) and benefit from secure database connections and authentication, improve metadata handling, and advanced vector indexes.\n"
   ]
  },
  {
   "cell_type": "markdown",
   "metadata": {
    "id": "TE2CIamaXpqY"
   },
   "source": [
    "## Before you begin\n",
    "\n",
    "This notebook assumes that you have done the following:\n",
    "\n",
    "* [Create a Google Cloud Project](https://developers.google.com/workspace/guides/create-project)\n",
    "* [Enable the AlloyDB API](https://console.cloud.google.com/flows/enableapi?apiid=alloydb.googleapis.com)\n",
    "* [Create a AlloyDB cluster and instance](https://cloud.google.com/alloydb/docs/cluster-create)\n",
    "* [Create a AlloyDB database](https://cloud.google.com/alloydb/docs/quickstart/create-and-connect)\n",
    "* [Add a User to the database](https://cloud.google.com/alloydb/docs/database-users/about)\n"
   ]
  },
  {
   "cell_type": "markdown",
   "metadata": {
    "id": "yeFGQ9kPYs0W"
   },
   "source": [
    "  ### 🦜🔗 Library Installation\n",
    "  Install the integration library, `langchain-google-alloydb-pg`, and the library for the embedding service, `langchain-google-vertexai`."
   ]
  },
  {
   "cell_type": "code",
   "execution_count": null,
   "metadata": {
    "colab": {
     "base_uri": "https://localhost:8080/"
    },
    "id": "t-FWrCqVH7v5",
    "outputId": "e9e30198-d2ca-4365-b21b-d6ab0eeb0623"
   },
   "outputs": [],
   "source": [
    "%pip install --upgrade --quiet  langchain-google-alloydb-pg langchain-google-vertexai"
   ]
  },
  {
   "cell_type": "markdown",
   "metadata": {
    "id": "Mj6qCBI7Y7sh"
   },
   "source": [
    "**Colab only:** Uncomment the following cell to restart the kernel or use the button to restart the kernel. For Vertex AI Workbench you can restart the terminal using the button on top."
   ]
  },
  {
   "cell_type": "code",
   "execution_count": null,
   "metadata": {
    "id": "ziswhCwcY_MV"
   },
   "outputs": [],
   "source": [
    "# # Automatically restart kernel after installs so that your environment can access the new packages\n",
    "# import IPython\n",
    "\n",
    "# app = IPython.Application.instance()\n",
    "# app.kernel.do_shutdown(True)"
   ]
  },
  {
   "cell_type": "markdown",
   "metadata": {
    "id": "tib6qz9QH-Lh"
   },
   "source": [
    "### 🔐 Authentication\n",
    "Authenticate to Google Cloud as the IAM user logged into this notebook in order to access your Google Cloud Project.\n",
    "\n",
    "* If you are using Colab to run this notebook, use the cell below and continue.\n",
    "\n",
    "* If you are using Vertex AI Workbench, check out the setup instructions [here](https://github.com/GoogleCloudPlatform/generative-ai/tree/main/setup-env)"
   ]
  },
  {
   "cell_type": "code",
   "execution_count": null,
   "metadata": {
    "id": "MLA9smX8OBcM"
   },
   "outputs": [],
   "source": [
    "from google.colab import auth\n",
    "\n",
    "auth.authenticate_user()"
   ]
  },
  {
   "cell_type": "markdown",
   "metadata": {
    "id": "92AhND6pIAPY"
   },
   "source": [
    "  ### ☁ Set Your Google Cloud Project\n",
    "  Set your Google Cloud project so that you can leverage Google Cloud resources within this notebook.\n",
    "  \n",
    "  If you don't know your project ID, try the following:\n",
    "\n",
    "  * Run `gcloud config list`.\n",
    "  * Run `gcloud projects list`.\n",
    "  * See the support page: [Locate the project ID](https://support.google.com/googleapi/answer/7014113)."
   ]
  },
  {
   "cell_type": "code",
   "execution_count": null,
   "metadata": {
    "colab": {
     "base_uri": "https://localhost:8080/"
    },
    "id": "TqWdttLHOEsr",
    "outputId": "29fa03ed-de0b-4ac1-95e7-6d33e566e66a"
   },
   "outputs": [],
   "source": [
    "# @markdown Please fill in the value below with your GCP project ID and then run the cell.\n",
    "\n",
    "# Please fill in these values.\n",
    "PROJECT_ID = \"\"  # @param {type:\"string\"}\n",
    "\n",
    "# Quick input validations.\n",
    "assert PROJECT_ID, \"⚠️ Please provide a Google Cloud project ID\"\n",
    "\n",
    "# Configure gcloud.\n",
    "!gcloud config set project {PROJECT_ID}"
   ]
  },
  {
   "cell_type": "markdown",
   "metadata": {
    "id": "NqeEeQc6Z137"
   },
   "source": [
    "## Basic Usage"
   ]
  },
  {
   "cell_type": "markdown",
   "metadata": {
    "id": "pAfvCrs1Z2Le"
   },
   "source": [
    "### Set AlloyDB database values\n",
    "\n",
    "Find your database values, in the [AlloyDB Instances page](https://console.cloud.google.com/alloydb/clusters)."
   ]
  },
  {
   "cell_type": "code",
   "execution_count": null,
   "metadata": {
    "id": "A3BYZXQrOsQP"
   },
   "outputs": [],
   "source": [
    "# @markdown Please fill in these values.\n",
    "REGION = \"\"  # @param {type:\"string\"}\n",
    "CLUSTER = \"\"  # @param {type:\"string\"}\n",
    "INSTANCE = \"\"  # @param {type:\"string\"}\n",
    "DATABASE = \"\"  # @param {type:\"string\"}"
   ]
  },
  {
   "cell_type": "code",
   "execution_count": null,
   "metadata": {},
   "outputs": [],
   "source": [
    "# Quick input validations.\n",
    "assert REGION, \"⚠️ Please provide a Google Cloud region\"\n",
    "assert INSTANCE, \"⚠️ Please provide the name of your instance\"\n",
    "assert DATABASE, \"⚠️ Please provide the name of your database_name\"\n",
    "assert CLUSTER, \"⚠️ Please provide the name of your alloydb cluster\""
   ]
  },
  {
   "cell_type": "markdown",
   "metadata": {
    "id": "dS3X75KpabxA"
   },
   "source": [
    "### AlloyDBEngine Connection Pool\n",
    "\n",
    "One of the requirements and arguments to establish AlloyDB as a vector store is a `AlloyDBEngine` object. The `AlloyDBEngine`  configures a connection pool to your AlloyDB database, enabling successful connections from your application and following industry best practices.\n",
    "\n",
    "To create a `AlloyDBEngine` using `AlloyDBEngine.from_instance()` you need to provide only 5 things:\n",
    "\n",
    "1. `project_id` : Project ID of the Google Cloud Project where the AlloyDB instance is located.\n",
    "2. `region` : Region where the AlloyDB instance is located.\n",
    "3. `cluster`: The name of the AlloyDB cluster.\n",
    "4. `instance` : The name of the AlloyDB instance.\n",
    "5. `database` : The name of the database to connect to on the AlloyDB instance.\n",
    "\n",
    "\n",
    "By default, [IAM database authentication](https://cloud.google.com/alloydb/docs/connect-iam) will be used as the method of database authentication. This library uses the IAM principal belonging to the [Application Default Credentials (ADC)](https://cloud.google.com/docs/authentication/application-default-credentials) sourced from the environment.\n",
    "\n",
    "Optionally, [built-in database authentication](https://cloud.google.com/alloydb/docs/database-users/about) using a username and password to access the AlloyDB database can also be used. Just provide the optional `user` and `password` arguments to `AlloyDBEngine.from_instance()`:\n",
    "\n",
    "* `user` : Database user to use for built-in database authentication and login.\n",
    "* `password` : Database password to use for built-in database authentication and login."
   ]
  },
  {
   "cell_type": "code",
   "execution_count": null,
   "metadata": {
    "id": "HPcWWr_LaLqD"
   },
   "outputs": [],
   "source": [
    "# @title Set Your Values Here { display-mode: \"form\" }\n",
    "USER = \"postgres\"  # @param {type: \"string\"}\n",
    "PASSWORD = input(f\"Please provide a password to be used for {USER} database user: \")"
   ]
  },
  {
   "cell_type": "markdown",
   "metadata": {
    "id": "5_-kcRf4bJ8B"
   },
   "source": [
    "Create a connection to your AlloyDB for PostgreSQL instance using the AlloyDBEngine class.\n",
    "\n"
   ]
  },
  {
   "cell_type": "code",
   "execution_count": null,
   "metadata": {
    "id": "rWlcGt3JIDIy"
   },
   "outputs": [],
   "source": [
    "from langchain_google_alloydb_pg import AlloyDBEngine, AlloyDBVectorStore\n",
    "from langchain_core.documents import Document\n",
    "\n",
    "engine = AlloyDBEngine.from_instance(\n",
    "    project_id=PROJECT_ID,\n",
    "    region=REGION,\n",
    "    cluster=CLUSTER,\n",
    "    instance=INSTANCE,\n",
    "    database=DATABASE,\n",
    "    user=USER,\n",
    "    password=PASSWORD,\n",
    ")"
   ]
  },
  {
   "cell_type": "markdown",
   "metadata": {
    "id": "qI3IdMdubu4y"
   },
   "source": [
    "### Create an embedding class instance\n",
    "\n",
    "You can use any [LangChain embeddings model](https://python.langchain.com/docs/integrations/text_embedding/).\n",
    "You may need to enable Vertex AI API to use `VertexAIEmbeddings`. We recommend setting the embedding model's version for production, learn more about the [Text embeddings models](https://cloud.google.com/vertex-ai/docs/generative-ai/model-reference/text-embeddings)."
   ]
  },
  {
   "cell_type": "code",
   "execution_count": null,
   "metadata": {
    "id": "vMeZsVuLb_6g"
   },
   "outputs": [],
   "source": [
    "# enable Vertex AI API\n",
    "!gcloud services enable aiplatform.googleapis.com"
   ]
  },
  {
   "cell_type": "code",
   "execution_count": null,
   "metadata": {
    "id": "69OOOCWebc5X"
   },
   "outputs": [],
   "source": [
    "from langchain_google_vertexai import VertexAIEmbeddings\n",
    "\n",
    "embeddings_service = VertexAIEmbeddings(\n",
    "    model_name=\"textembedding-gecko@003\", project=PROJECT_ID\n",
    ")"
   ]
  },
  {
   "cell_type": "markdown",
   "metadata": {
    "id": "iY8oA59vcL7_"
   },
   "source": [
    "### Initialize an AlloyDB Loader\n",
    "\n",
    "Intialize an AlloyDB Loader to fetch collection uuid from the \"langchain_pg_collection\" table"
   ]
  },
  {
   "cell_type": "code",
   "execution_count": null,
   "metadata": {
    "id": "phMW5OS1IOA9"
   },
   "outputs": [],
   "source": [
    "from langchain_google_alloydb_pg import AlloyDBLoader\n",
    "\n",
    "# Choose the collection to perform vector search on\n",
    "collection_name = \"test_table\"\n",
    "\n",
    "# The langchain_pg_collection table usually stores collection-to-UUID mappings.\n",
    "# Modify the name if you're using a different table.\n",
    "collection_loader = AlloyDBLoader.create_sync(\n",
    "    engine=engine,\n",
    "    query=f\"SELECT * from langchain_pg_collection WHERE name='{collection_name}'\",\n",
    ")\n",
    "doc = collection_loader.load()\n",
    "uuid = doc[0].page_content"
   ]
  },
  {
   "cell_type": "markdown",
   "metadata": {
    "id": "5OAU-iFBcISC"
   },
   "source": [
    "### Initialize an AlloyDBVectorStore on the embeddings data"
   ]
  },
  {
   "cell_type": "code",
   "execution_count": null,
   "metadata": {
    "id": "fE3U6VKRIdst"
   },
   "outputs": [],
   "source": [
    "# The PGVector class by default creates a table which contains 4 columns: document, id, cmetadata, collection_id\n",
    "# Modify column names if you're using different ones instead.\n",
    "embedding_vectorstore = AlloyDBVectorStore.create_sync(\n",
    "    engine=engine,\n",
    "    table_name=\"langchain_pg_embedding\",\n",
    "    embedding_service=embeddings_service,\n",
    "    content_column=\"document\",\n",
    "    metadata_columns=[\"cmetadata\", \"collection_id\"],\n",
    "    id_column=\"id\",\n",
    ")"
   ]
  },
  {
   "cell_type": "markdown",
   "metadata": {
    "id": "L9uA3d_tckNT"
   },
   "source": [
    "### Perform basic similarity search"
   ]
  },
  {
   "cell_type": "code",
   "execution_count": null,
   "metadata": {
    "colab": {
     "base_uri": "https://localhost:8080/"
    },
    "id": "769GpGCnUdDZ",
    "outputId": "7c73a7dc-51d7-410f-9862-dae99bb11413"
   },
   "outputs": [],
   "source": [
    "# Equivalent PGVector code:\n",
    "# pg_vectorstore.similarity_search(\n",
    "#     \"cats\", k=5\n",
    "# )\n",
    "\n",
    "embedding_vectorstore.similarity_search(\"cats\", k=5, filter=f\"collection_id='{uuid}'\")"
   ]
  },
  {
   "cell_type": "markdown",
   "metadata": {
    "id": "Ux6KNk3Tcn2x"
   },
   "source": [
    "### Perform similarity search with metadata filters\n",
    "\n",
    "The filter should be written using SQL syntax as it forms part of the WHERE clause in your query."
   ]
  },
  {
   "cell_type": "code",
   "execution_count": null,
   "metadata": {
    "colab": {
     "base_uri": "https://localhost:8080/"
    },
    "id": "eVwZdZ35VzZJ",
    "outputId": "20ef5f10-147e-48f5-efe9-685bb74f0af5"
   },
   "outputs": [],
   "source": [
    "embedding_vectorstore.similarity_search(\n",
    "    \"cats\", k=5, filter=f\"collection_id='{uuid}' and cmetadata->>'topic' = 'animals'\"\n",
    ")"
   ]
  }
 ],
 "metadata": {
  "colab": {
   "provenance": []
  },
  "kernelspec": {
   "display_name": "Python 3",
   "name": "python3"
  },
  "language_info": {
   "codemirror_mode": {
    "name": "ipython",
    "version": 3
   },
   "file_extension": ".py",
   "mimetype": "text/x-python",
   "name": "python",
   "nbconvert_exporter": "python",
   "pygments_lexer": "ipython3",
   "version": "3.8.16"
  }
 },
 "nbformat": 4,
 "nbformat_minor": 0
}
