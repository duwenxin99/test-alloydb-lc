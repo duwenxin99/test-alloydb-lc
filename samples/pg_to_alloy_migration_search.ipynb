{
  "nbformat": 4,
  "nbformat_minor": 0,
  "metadata": {
    "colab": {
      "provenance": []
    },
    "kernelspec": {
      "name": "python3",
      "display_name": "Python 3"
    },
    "language_info": {
      "name": "python"
    }
  },
  "cells": [
    {
      "cell_type": "markdown",
      "source": [
        "# PGVector to AlloyDB Migration\n",
        "Self Link: [go/pg-to-alloy-migration-search](http://go/pg-to-alloy-migration-search)"
      ],
      "metadata": {
        "id": "QfhjUMPlX-2t"
      }
    },
    {
      "cell_type": "markdown",
      "source": [
        "## Introduction\n",
        "\n",
        "In this codelab, you'll learn how to use AlloyDB interface for vector search in any DB created using the PGVector interface.\n",
        "\n",
        "This would allow you to migrate from using [PGVector](https://api.python.langchain.com/en/latest/vectorstores/langchain_postgres.vectorstores.PGVector.html#langchain_postgres.vectorstores.PGVector) to [AlloyDB Vector Store](https://github.com/googleapis/langchain-google-alloydb-pg-python/blob/main/docs/vector_store.ipynb) search methods.\n",
        "\n",
        "The AlloyDB interface simplifies secure connections to the AlloyDB database, even for users with little experience.\n"
      ],
      "metadata": {
        "id": "C5buBYm2WTKV"
      }
    },
    {
      "cell_type": "markdown",
      "source": [
        "## Before you begin\n",
        "\n",
        "This notebook assumes that you have done the following:\n",
        "\n",
        "* [Create a Google Cloud Project](https://developers.google.com/workspace/guides/create-project)\n",
        "* [Enable the AlloyDB API](https://console.cloud.google.com/flows/enableapi?apiid=alloydb.googleapis.com)\n",
        "* [Create a AlloyDB cluster and instance](https://cloud.google.com/alloydb/docs/cluster-create)\n",
        "* [Create a AlloyDB database](https://cloud.google.com/alloydb/docs/quickstart/create-and-connect)\n",
        "* [Add a User to the database](https://cloud.google.com/alloydb/docs/database-users/about)\n"
      ],
      "metadata": {
        "id": "TE2CIamaXpqY"
      }
    },
    {
      "cell_type": "markdown",
      "source": [
        "  ### 🦜🔗 Library Installation\n",
        "  Install the integration library, `langchain-google-alloydb-pg`, and the library for the embedding service, `langchain-google-vertexai`."
      ],
      "metadata": {
        "id": "yeFGQ9kPYs0W"
      }
    },
    {
      "cell_type": "code",
      "source": [
        "%pip install --upgrade --quiet  langchain-google-alloydb-pg langchain-google-vertexai"
      ],
      "metadata": {
        "id": "t-FWrCqVH7v5",
        "colab": {
          "base_uri": "https://localhost:8080/"
        },
        "outputId": "e9e30198-d2ca-4365-b21b-d6ab0eeb0623"
      },
      "execution_count": null,
      "outputs": [
        {
          "output_type": "stream",
          "name": "stdout",
          "text": [
            "\u001b[?25l   \u001b[90m━━━━━━━━━━━━━━━━━━━━━━━━━━━━━━━━━━━━━━━━\u001b[0m \u001b[32m0.0/2.7 MB\u001b[0m \u001b[31m?\u001b[0m eta \u001b[36m-:--:--\u001b[0m\r\u001b[2K   \u001b[91m━━━━━━━━━━━━\u001b[0m\u001b[90m╺\u001b[0m\u001b[90m━━━━━━━━━━━━━━━━━━━━━━━━━━━\u001b[0m \u001b[32m0.8/2.7 MB\u001b[0m \u001b[31m26.0 MB/s\u001b[0m eta \u001b[36m0:00:01\u001b[0m\r\u001b[2K   \u001b[91m━━━━━━━━━━━━━━━━━━━━━━━━━━━━━━━━━━━━━━━\u001b[0m\u001b[91m╸\u001b[0m \u001b[32m2.7/2.7 MB\u001b[0m \u001b[31m50.8 MB/s\u001b[0m eta \u001b[36m0:00:01\u001b[0m\r\u001b[2K   \u001b[90m━━━━━━━━━━━━━━━━━━━━━━━━━━━━━━━━━━━━━━━━\u001b[0m \u001b[32m2.7/2.7 MB\u001b[0m \u001b[31m35.6 MB/s\u001b[0m eta \u001b[36m0:00:00\u001b[0m\n",
            "\u001b[?25h"
          ]
        }
      ]
    },
    {
      "cell_type": "markdown",
      "source": [
        "**Colab only:** Uncomment the following cell to restart the kernel or use the button to restart the kernel. For Vertex AI Workbench you can restart the terminal using the button on top."
      ],
      "metadata": {
        "id": "Mj6qCBI7Y7sh"
      }
    },
    {
      "cell_type": "code",
      "source": [
        "# # Automatically restart kernel after installs so that your environment can access the new packages\n",
        "# import IPython\n",
        "\n",
        "# app = IPython.Application.instance()\n",
        "# app.kernel.do_shutdown(True)"
      ],
      "metadata": {
        "id": "ziswhCwcY_MV"
      },
      "execution_count": null,
      "outputs": []
    },
    {
      "cell_type": "markdown",
      "source": [
        "### 🔐 Authentication\n",
        "Authenticate to Google Cloud as the IAM user logged into this notebook in order to access your Google Cloud Project.\n",
        "\n",
        "* If you are using Colab to run this notebook, use the cell below and continue.\n",
        "\n",
        "* If you are using Vertex AI Workbench, check out the setup instructions [here](https://github.com/GoogleCloudPlatform/generative-ai/tree/main/setup-env)"
      ],
      "metadata": {
        "id": "tib6qz9QH-Lh"
      }
    },
    {
      "cell_type": "code",
      "execution_count": null,
      "metadata": {
        "id": "MLA9smX8OBcM"
      },
      "outputs": [],
      "source": [
        "from google.colab import auth\n",
        "\n",
        "auth.authenticate_user()"
      ]
    },
    {
      "cell_type": "markdown",
      "source": [
        "  ### ☁ Set Your Google Cloud Project\n",
        "  Set your Google Cloud project so that you can leverage Google Cloud resources within this notebook.\n",
        "  \n",
        "  If you don't know your project ID, try the following:\n",
        "\n",
        "  * Run `gcloud config list`.\n",
        "  * Run `gcloud projects list`.\n",
        "  * See the support page: [Locate the project ID](https://support.google.com/googleapi/answer/7014113)."
      ],
      "metadata": {
        "id": "92AhND6pIAPY"
      }
    },
    {
      "cell_type": "code",
      "source": [
        "# @markdown Please fill in the value below with your Google Cloud project ID and then run the cell.\n",
        "\n",
        "PROJECT_ID = \"twisha-dev\"  # @param {type:\"string\"}\n",
        "\n",
        "# Set the project id\n",
        "!gcloud config set project {PROJECT_ID}"
      ],
      "metadata": {
        "colab": {
          "base_uri": "https://localhost:8080/"
        },
        "id": "TqWdttLHOEsr",
        "outputId": "29fa03ed-de0b-4ac1-95e7-6d33e566e66a"
      },
      "execution_count": null,
      "outputs": [
        {
          "output_type": "stream",
          "name": "stdout",
          "text": [
            "Updated property [core/project].\n"
          ]
        }
      ]
    },
    {
      "cell_type": "markdown",
      "source": [
        "## Basic Usage"
      ],
      "metadata": {
        "id": "NqeEeQc6Z137"
      }
    },
    {
      "cell_type": "markdown",
      "source": [
        "### Set AlloyDB database values\n",
        "\n",
        "Find your database values, in the [AlloyDB Instances page](https://console.cloud.google.com/alloydb/clusters)."
      ],
      "metadata": {
        "id": "pAfvCrs1Z2Le"
      }
    },
    {
      "cell_type": "code",
      "source": [
        "# @title Set Your Values Here { display-mode: \"form\" }\n",
        "REGION = \"us-central1\"  # @param {type: \"string\"}\n",
        "CLUSTER = \"twisha-dev-cluster\"  # @param {type: \"string\"}\n",
        "INSTANCE = \"my-primary\"  # @param {type: \"string\"}\n",
        "DATABASE = \"test_db\"  # @param {type: \"string\"}"
      ],
      "metadata": {
        "id": "A3BYZXQrOsQP"
      },
      "execution_count": null,
      "outputs": []
    },
    {
      "cell_type": "markdown",
      "source": [
        "### AlloyDBEngine Connection Pool\n",
        "\n",
        "One of the requirements and arguments to establish AlloyDB as a vector store is a `AlloyDBEngine` object. The `AlloyDBEngine`  configures a connection pool to your AlloyDB database, enabling successful connections from your application and following industry best practices.\n",
        "\n",
        "To create a `AlloyDBEngine` using `AlloyDBEngine.from_instance()` you need to provide only 5 things:\n",
        "\n",
        "1. `project_id` : Project ID of the Google Cloud Project where the AlloyDB instance is located.\n",
        "2. `region` : Region where the AlloyDB instance is located.\n",
        "3. `cluster`: The name of the AlloyDB cluster.\n",
        "4. `instance` : The name of the AlloyDB instance.\n",
        "5. `database` : The name of the database to connect to on the AlloyDB instance.\n",
        "\n",
        "\n",
        "By default, [IAM database authentication](https://cloud.google.com/alloydb/docs/connect-iam) will be used as the method of database authentication. This library uses the IAM principal belonging to the [Application Default Credentials (ADC)](https://cloud.google.com/docs/authentication/application-default-credentials) sourced from the environment.\n",
        "\n",
        "Optionally, [built-in database authentication](https://cloud.google.com/alloydb/docs/database-users/about) using a username and password to access the AlloyDB database can also be used. Just provide the optional `user` and `password` arguments to `AlloyDBEngine.from_instance()`:\n",
        "\n",
        "* `user` : Database user to use for built-in database authentication and login.\n",
        "* `password` : Database password to use for built-in database authentication and login."
      ],
      "metadata": {
        "id": "dS3X75KpabxA"
      }
    },
    {
      "cell_type": "code",
      "source": [
        "# @title Set Your Values Here { display-mode: \"form\" }\n",
        "USER = \"postgres\"  # @param {type: \"string\"}\n",
        "PASSWORD = \"alloydb\"  # @param {type: \"string\"}"
      ],
      "metadata": {
        "id": "HPcWWr_LaLqD"
      },
      "execution_count": null,
      "outputs": []
    },
    {
      "cell_type": "markdown",
      "source": [
        "Create a connection to your AlloyDB for PostgreSQL instance using the AlloyDBEngine class.\n",
        "\n"
      ],
      "metadata": {
        "id": "5_-kcRf4bJ8B"
      }
    },
    {
      "cell_type": "code",
      "source": [
        "from langchain_google_alloydb_pg import AlloyDBEngine, AlloyDBVectorStore, Column\n",
        "from langchain_core.documents import Document\n",
        "import uuid\n",
        "\n",
        "engine = AlloyDBEngine.from_instance(\n",
        "    project_id=PROJECT_ID,\n",
        "    region=REGION,\n",
        "    cluster=CLUSTER,\n",
        "    instance=INSTANCE,\n",
        "    database=DATABASE,\n",
        "    user=USER,\n",
        "    password=PASSWORD,\n",
        ")"
      ],
      "metadata": {
        "id": "rWlcGt3JIDIy"
      },
      "execution_count": null,
      "outputs": []
    },
    {
      "cell_type": "markdown",
      "source": [
        "### Create an embedding class instance\n",
        "\n",
        "You can use any [LangChain embeddings model](https://python.langchain.com/docs/integrations/text_embedding/).\n",
        "You may need to enable Vertex AI API to use `VertexAIEmbeddings`. We recommend setting the embedding model's version for production, learn more about the [Text embeddings models](https://cloud.google.com/vertex-ai/docs/generative-ai/model-reference/text-embeddings)."
      ],
      "metadata": {
        "id": "qI3IdMdubu4y"
      }
    },
    {
      "cell_type": "code",
      "source": [
        "# enable Vertex AI API\n",
        "!gcloud services enable aiplatform.googleapis.com"
      ],
      "metadata": {
        "id": "vMeZsVuLb_6g"
      },
      "execution_count": null,
      "outputs": []
    },
    {
      "cell_type": "code",
      "source": [
        "from langchain_google_vertexai import VertexAIEmbeddings\n",
        "\n",
        "embeddings_service = VertexAIEmbeddings(\n",
        "    model_name=\"textembedding-gecko@003\", project=PROJECT_ID\n",
        ")"
      ],
      "metadata": {
        "id": "69OOOCWebc5X"
      },
      "execution_count": null,
      "outputs": []
    },
    {
      "cell_type": "markdown",
      "source": [
        "### Initialize an AlloyDB Loader\n",
        "\n",
        "Intialize an AlloyDB Loader to fetch collection uuid from the \"langchain_pg_collection\" table"
      ],
      "metadata": {
        "id": "iY8oA59vcL7_"
      }
    },
    {
      "cell_type": "code",
      "source": [
        "from langchain_google_alloydb_pg import AlloyDBLoader\n",
        "\n",
        "collection_name = \"test_table\"\n",
        "collection_loader = AlloyDBLoader.create_sync(\n",
        "    engine=engine,\n",
        "    query=f\"SELECT * from langchain_pg_collection WHERE name='{collection_name}'\"\n",
        ")\n",
        "doc = collection_loader.load()\n",
        "uuid = doc[0].page_content"
      ],
      "metadata": {
        "id": "phMW5OS1IOA9"
      },
      "execution_count": null,
      "outputs": []
    },
    {
      "cell_type": "markdown",
      "source": [
        "### Initialize an AlloyDBVectorStore on the embeddings data"
      ],
      "metadata": {
        "id": "5OAU-iFBcISC"
      }
    },
    {
      "cell_type": "code",
      "source": [
        "embedding_vectorstore = AlloyDBVectorStore.create_sync(\n",
        "    engine=engine,\n",
        "    table_name=\"langchain_pg_embedding\",\n",
        "    embedding_service=embeddings_service,\n",
        "    content_column=\"document\",\n",
        "    metadata_columns=[\"cmetadata\", \"collection_id\"],\n",
        "    id_column=\"id\",\n",
        ")"
      ],
      "metadata": {
        "id": "fE3U6VKRIdst"
      },
      "execution_count": null,
      "outputs": []
    },
    {
      "cell_type": "markdown",
      "source": [
        "### Perform basic similarity search"
      ],
      "metadata": {
        "id": "L9uA3d_tckNT"
      }
    },
    {
      "cell_type": "code",
      "source": [
        "# Equivalent PGVector code:\n",
        "# pg_vectorstore.similarity_search(\n",
        "#     \"cats\", k=5\n",
        "# )\n",
        "\n",
        "embedding_vectorstore.similarity_search(\n",
        "    \"cats\", k=5, filter=f\"collection_id='{uuid}'\"\n",
        ")"
      ],
      "metadata": {
        "colab": {
          "base_uri": "https://localhost:8080/"
        },
        "id": "769GpGCnUdDZ",
        "outputId": "7c73a7dc-51d7-410f-9862-dae99bb11413"
      },
      "execution_count": null,
      "outputs": [
        {
          "output_type": "execute_result",
          "data": {
            "text/plain": [
              "[Document(metadata={'cmetadata': {'id': 1, 'topic': 'animals', 'location': 'pond'}, 'collection_id': UUID('90462d20-97e5-4094-ba4b-9e2b776938e6')}, page_content='there are cats in the pond'),\n",
              " Document(metadata={'cmetadata': {'id': 5, 'topic': 'art', 'location': 'museum'}, 'collection_id': UUID('90462d20-97e5-4094-ba4b-9e2b776938e6')}, page_content='the new art exhibit is fascinating'),\n",
              " Document(metadata={'cmetadata': {'id': 6, 'topic': 'art', 'location': 'museum'}, 'collection_id': UUID('90462d20-97e5-4094-ba4b-9e2b776938e6')}, page_content='a sculpture exhibit is also at the museum'),\n",
              " Document(metadata={'cmetadata': {'id': 2, 'topic': 'animals', 'location': 'pond'}, 'collection_id': UUID('90462d20-97e5-4094-ba4b-9e2b776938e6')}, page_content='ducks are also found in the pond'),\n",
              " Document(metadata={'cmetadata': {'id': 9, 'topic': 'reading', 'location': 'library'}, 'collection_id': UUID('90462d20-97e5-4094-ba4b-9e2b776938e6')}, page_content='the library hosts a weekly story time for kids')]"
            ]
          },
          "metadata": {},
          "execution_count": 27
        }
      ]
    },
    {
      "cell_type": "markdown",
      "source": [
        "### Perform similarity search with metadata filters\n",
        "\n",
        "The filter should be written using SQL syntax as it forms part of the WHERE clause in your query."
      ],
      "metadata": {
        "id": "Ux6KNk3Tcn2x"
      }
    },
    {
      "cell_type": "code",
      "source": [
        "embedding_vectorstore.similarity_search(\n",
        "    \"cats\", k=5, filter=f\"collection_id='{uuid}' and cmetadata->>'topic' = 'animals'\"\n",
        ")"
      ],
      "metadata": {
        "colab": {
          "base_uri": "https://localhost:8080/"
        },
        "id": "eVwZdZ35VzZJ",
        "outputId": "20ef5f10-147e-48f5-efe9-685bb74f0af5"
      },
      "execution_count": null,
      "outputs": [
        {
          "output_type": "execute_result",
          "data": {
            "text/plain": [
              "[Document(metadata={'cmetadata': {'id': 1, 'topic': 'animals', 'location': 'pond'}, 'collection_id': UUID('90462d20-97e5-4094-ba4b-9e2b776938e6')}, page_content='there are cats in the pond'),\n",
              " Document(metadata={'cmetadata': {'id': 2, 'topic': 'animals', 'location': 'pond'}, 'collection_id': UUID('90462d20-97e5-4094-ba4b-9e2b776938e6')}, page_content='ducks are also found in the pond')]"
            ]
          },
          "metadata": {},
          "execution_count": 29
        }
      ]
    }
  ]
}